{
  "cells": [
    {
      "cell_type": "markdown",
      "metadata": {},
      "source": [
        "# BEE 4750 Homework 3: Uncertain Sea-Level Rise and Levee Reliability\n",
        "\n",
        "**Name**:\n",
        "\n",
        "**ID**:\n",
        "\n",
        "> **Due Date**\n",
        ">\n",
        "> Friday, 10/06/23, 9:00pm\n",
        "\n",
        "## Overview\n",
        "\n",
        "### Instructions\n",
        "\n",
        "This assignment asks you to conduct a Monte Carlo analysis of levee\n",
        "reliability in the face of uncertain changes to local sea levels. You\n",
        "will propagate uncertainty in equilibrium climate sensitivity through\n",
        "the energy balance model to obtain a distribution of temperatures, which\n",
        "will then drive a model of sea-level rise. You will finally use this\n",
        "distribution to assess the probability that a planned levee will achieve\n",
        "its desired reliability standard.\n",
        "\n",
        "### Load Environment\n",
        "\n",
        "The following code loads the environment and makes sure all needed\n",
        "packages are installed. This should be at the start of most Julia\n",
        "scripts."
      ],
      "id": "a0acdad4-d31d-4145-83ca-9e8c67b461fd"
    },
    {
      "cell_type": "code",
      "execution_count": 1,
      "metadata": {},
      "outputs": [],
      "source": [
        "import Pkg\n",
        "Pkg.activate(@__DIR__)\n",
        "Pkg.instantiate()"
      ],
      "id": "2d08d146"
    },
    {
      "cell_type": "code",
      "execution_count": 2,
      "metadata": {},
      "outputs": [],
      "source": [
        "using Random\n",
        "using Plots\n",
        "using LaTeXStrings\n",
        "using Distributions\n",
        "using CSV\n",
        "using DataFrames"
      ],
      "id": "6341785b"
    },
    {
      "cell_type": "markdown",
      "metadata": {},
      "source": [
        "## Problems (Total: 40 Points)"
      ],
      "id": "b79b68a2-de91-4063-b59a-749ccbf2b077"
    },
    {
      "cell_type": "markdown",
      "metadata": {},
      "source": [
        "### Problem 1 (12 points)\n",
        "\n",
        "Recall from class that the simple energy balance model (EBM) of\n",
        "planetary energy balance links changes in radiative forcing ($F$) to\n",
        "global mean temperature ($T$) changes through the discretized equation\n",
        "$$T_{i+1} = T_{i} + \\frac{F_i - \\lambda T_i}{cd} \\times \\Delta t,$$\n",
        "where $i$ is the current time step, $c = 4.184 \\times 10^6$\n",
        "J/K/m<sup>2</sup> is the heat capacity of water per unit area, $d$ is\n",
        "the (uncertain) depth of the mixing layer, $\\Delta t$ is the annual time\n",
        "step in seconds and $\\lambda = F_{\\text{2xCO}_2}/S$ is the climate\n",
        "feedback parameter in W/m<sup>2</sup>/$^\\circ$ C, where $S$ is the\n",
        "equilibrium climate sensitivity (the uncertain equilibrium temperature\n",
        "change resulting from a doubling of atmospheric CO<sub>2</sub>).\n",
        "Finally, while total radiative forcing can be the result of non-aerosol\n",
        "and aerosol effects, we do not know the relative intensity of aerosol\n",
        "forcing, so we represent this with an uncertain aerosol scaling factor\n",
        "$\\alpha$.\n",
        "\n",
        "We can implement this model with the following Julia function. We will\n",
        "assume an ocean mixing depth $d = 100$ m and an aerosol scaling factor\n",
        "$\\alpha = 1.3$ so we can focus on the uncertainty in $S$.\n",
        "\n",
        "The last technical concern is that “global mean temperature” does not\n",
        "make sense in absolute terms as a marker of climate change. Instead, we\n",
        "typically refer to temperature changes relative to some historical\n",
        "pre-industrial baseline. In this case, we will use the period from\n",
        "1880-1900, though this choice can vary."
      ],
      "id": "e5f30d6c-a9e7-4d34-9aa1-ea818692d406"
    },
    {
      "cell_type": "code",
      "execution_count": 3,
      "metadata": {},
      "outputs": [
        {
          "output_type": "display_data",
          "metadata": {},
          "data": {
            "text/plain": [
              "energy_balance_model (generic function with 1 method)"
            ]
          }
        }
      ],
      "source": [
        "# we need to split up the aerosol and non-aerosol forcings when we call the function\n",
        "function energy_balance_model(S, forcing_aerosol, forcing_non_aerosol)\n",
        "    d = 100 # ocean mixing depth [m]\n",
        "    α = 1.3 # aerosol scaling factor\n",
        "    F2xCO₂ = 4.0 # radiative forcing [W/m²] for a doubling of CO₂\n",
        "    λ = F2xCO₂/S\n",
        "    \n",
        "    c = 4.184e6 # heat capacity/area [J/K/m²]\n",
        "    C = c*d # heat capacity of mixed layer (per area)\n",
        "\n",
        "    F = forcing_non_aerosol + α*forcing_aerosol # radiative forcing\n",
        "\n",
        "    Δt = 31558152.0 # annual timestep [s]\n",
        "    \n",
        "    T = zero(F)\n",
        "    for i in 1:length(F)-1\n",
        "        T[i+1] = T[i] + (F[i] - λ*T[i])/C * Δt\n",
        "    end\n",
        "    # return temperature anomaly relative to 1880-1900 baseline\n",
        "    return T .- mean(T[1:21]) \n",
        "end"
      ],
      "id": "0cc9f9b0"
    },
    {
      "cell_type": "markdown",
      "metadata": {},
      "source": [
        "Finally, we need to load some radiative forcing data. We will use the\n",
        "radiative forcing scenario RCP 8.5. We can load this data, which is in a\n",
        "`.csv` (comma-delimited) file, into a `DataFrame`, which is a tabular\n",
        "data structure. Rows and columns in a `DataFrame` can be accessed using\n",
        "their numerical index (like a matrix), but columns also have names; you\n",
        "can access a particular column in a dataframe `df` by name using\n",
        "`df.colname` or `df[:, \"colname\"]`.\n",
        "\n",
        "Of note: this data set goes from 1750–2500, so you will need to take\n",
        "care to make sure you are using the right years at each step. For\n",
        "example, here we will constrain the data to 1880–2100, which is the\n",
        "period we are interested in."
      ],
      "id": "e1fc1cea-c7c9-41a1-8de5-a327425f73b7"
    },
    {
      "cell_type": "code",
      "execution_count": 4,
      "metadata": {},
      "outputs": [
        {
          "output_type": "display_data",
          "metadata": {},
          "data": {
            "text/plain": [
              "221-element Vector{Float64}:\n",
              "  0.42741479112315905\n",
              "  0.4487940147601447\n",
              "  0.4900144276528058\n",
              " -0.019811270078689047\n",
              " -1.480725700367619\n",
              " -0.3154905163510021\n",
              "  0.233186559774844\n",
              "  0.2923308952663089\n",
              "  0.45833872365810924\n",
              "  0.5168189581089915\n",
              "  0.4144761329626494\n",
              "  0.2762327724171124\n",
              "  0.48656957869238376\n",
              "  ⋮\n",
              "  9.560222650653953\n",
              "  9.671039126229665\n",
              "  9.772610821460296\n",
              "  9.879065698371564\n",
              "  9.946850640754889\n",
              " 10.002169546141578\n",
              " 10.061009359425011\n",
              " 10.115684195707905\n",
              " 10.182946497594184\n",
              " 10.249699157847772\n",
              " 10.331407709334023\n",
              " 10.424544495740134"
            ]
          }
        }
      ],
      "source": [
        "# The CSV is read into a DataFrame object, and we specify that it is comma delimited\n",
        "forcings_all_85 = CSV.read(\"data/ERF_ssp585_1750-2500.csv\", DataFrame, delim=\",\")\n",
        "\n",
        "# get the years corresponding to the forcings\n",
        "t = Int64.(forcings_all_85[!,\"year\"]) # Ensure that years are interpreted as integers\n",
        "# find the indices of the years 1880 and 2100\n",
        "# we can do this with the indexin function\n",
        "time_bounds = indexin([1880, 2100], t)\n",
        "years = time_bounds[1]:time_bounds[2] # create range of years\n",
        "\n",
        "# Separate out the individual components\n",
        "forcing_co2_85 = forcings_all_85[years,\"co2\"]\n",
        "# Get total aerosol and non-aerosol forcings\n",
        "forcing_aerosol_rad_85 = forcings_all_85[years,\"aerosol-radiation_interactions\"]\n",
        "forcing_aerosol_cloud_85 = forcings_all_85[years,\"aerosol-cloud_interactions\"]\n",
        "forcing_aerosol_85 = forcing_aerosol_rad_85 + forcing_aerosol_cloud_85 # aerosol forcings\n",
        "forcing_total_85 = forcings_all_85[years,\"total\"] \n",
        "forcing_non_aerosol_85 = forcing_total_85 - forcing_aerosol_85 # non-aerosol forcings"
      ],
      "id": "6be4bb0b"
    },
    {
      "cell_type": "markdown",
      "metadata": {},
      "source": [
        "For this assignment, you can use the `forcing_aerosol_85` and\n",
        "`forcing_non_aerosol_85` vectors as is to correspond to the relevant\n",
        "forcings. You will need to use the vector `t` to find the appropriate\n",
        "years for analysis."
      ],
      "id": "1b0264f0-c96b-4aca-bfc2-a16652ff7861"
    },
    {
      "cell_type": "markdown",
      "metadata": {},
      "source": [
        "#### Problem 1.1 (3 points)\n",
        "\n",
        "Assume that $S$ is distributed according to\n",
        "$\\text{LogNormal}(\\log(3.2), \\log{2}/3)$ (as in class). Draw 10,000\n",
        "samples from this distribution and make a histogram."
      ],
      "id": "7b67faf6-28c0-464f-81f8-a019fa5a9af4"
    },
    {
      "cell_type": "markdown",
      "metadata": {},
      "source": [
        "#### Problem 1.2 (5 points)\n",
        "\n",
        "Use the EBM to propagate your samples of $S$ to a distribution of global\n",
        "mean temperature. Plot the median and 90% predictive distribution\n",
        "(between the .05 and .95 quantiles) from 1880-2100."
      ],
      "id": "7ee96424-79ea-4260-bf9f-b18ba6751977"
    },
    {
      "cell_type": "markdown",
      "metadata": {},
      "source": [
        "#### Problem 1.3 (4 points)\n",
        "\n",
        "Make a histogram of global mean temperature projections in 2100. If you\n",
        "compare this distribution to the distribution of $S$ from Problem 1.1,\n",
        "what do you observe?"
      ],
      "id": "a46e5cb7-2801-4338-b29e-9c309986c158"
    },
    {
      "cell_type": "markdown",
      "metadata": {},
      "source": [
        "### Problem 2 (15 points)\n",
        "\n",
        "Changes to global temperatures cause changes in global sea levels\n",
        "through several mechanisms, including thermal expansion (the change in\n",
        "ocean volume due to increased heat content) and melting land-based ice.\n",
        "One simple way to represent this link is through the following model,\n",
        "proposed by [Rahmstorf (2007)](https://doi.org/10.1126/science.1135456).\n",
        "\n",
        "$$\\frac{dH}{dt} = a(T-T_0),$$\n",
        "\n",
        "where $H$ is the global mean sea level in mm, $T$ is global mean\n",
        "temperature, $T_0$ is an equilibrium temperature (where there is no\n",
        "change in sea levels), and $a$ is a proportionality constant. This model\n",
        "can be discretized to give $$H_{i+1} - H_i = a (T_i - T_0).$$\n",
        "\n",
        "Note that, like with global mean temperature, the notion of “global mean\n",
        "sea level” does not make sense in absolute terms (were sea levels ever\n",
        "at “zero”?). Instead, we want to normalize this relative to some\n",
        "historical baseline. In this case (with a view towards Problem 3), we\n",
        "will compute our sea levels relative to the 2010 sea level. Note that in\n",
        "addition to the model parameters, we also need an initial sea-level\n",
        "parameter $H_0$ which will give us the right anomaly level.\n",
        "\n",
        "The best estimates for these parameters are:\n",
        "\n",
        "-   $a = 1.86$;\n",
        "-   $H_0 = -223$;\n",
        "-   $T_0 = -0.62$"
      ],
      "id": "016c3b3d-2d88-4200-8649-cad89fc44e4d"
    },
    {
      "cell_type": "markdown",
      "metadata": {},
      "source": [
        "#### Problem 2.1 (5 points)\n",
        "\n",
        "Write a function `sea_level_model()` to implement the mathematical\n",
        "sea-level rise model described above. It should take in needed\n",
        "parameters and a vector of temperatures and return a vector of sea\n",
        "levels. To test your function, use the provided temperature series\n",
        "`historical_temps` (read in below) to compute the global mean sea level\n",
        "anomaly in 2022 (the last year of the dataset) with the parameter values\n",
        "above; you should get a value of approximately 40mm."
      ],
      "id": "7089633d-ddce-402c-837b-52a8169dc07e"
    },
    {
      "cell_type": "code",
      "execution_count": 5,
      "metadata": {},
      "outputs": [
        {
          "output_type": "display_data",
          "metadata": {},
          "data": {
            "text/plain": [
              "143-element Vector{Float64}:\n",
              "  0.07297116761904765\n",
              "  0.15655772761904765\n",
              "  0.09327316761904769\n",
              "  0.04232884761904765\n",
              " -0.10351681238095234\n",
              " -0.08232033238095232\n",
              " -0.03210037238095231\n",
              " -0.10998251238095236\n",
              "  0.00942435761904764\n",
              "  0.13890768761904768\n",
              " -0.11805492238095233\n",
              " -0.012511692380952344\n",
              " -0.11875525238095236\n",
              "  ⋮\n",
              "  0.9265009776190476\n",
              "  0.9664103476190478\n",
              "  1.0123786476190477\n",
              "  1.0616748976190478\n",
              "  1.2139176176190476\n",
              "  1.3217303776190477\n",
              "  1.2339774976190476\n",
              "  1.1514572476190477\n",
              "  1.2798758476190477\n",
              "  1.3115970476190477\n",
              "  1.1506591476190478\n",
              "  1.1896871476190476"
            ]
          }
        }
      ],
      "source": [
        "historical_temp_data = CSV.read(\"data/HadCRUT.5.0.1.0.analysis.summary_series.global.annual.csv\", DataFrame, delim=\",\")\n",
        "# column 2 is the temperature anomaly, column 1 is the year\n",
        "temp_bds = indexin([1880, 1900], historical_temp_data[!, 1]) # find the index of 2010 for normalization\n",
        "historical_temp_data[:, 2] .-= mean(historical_temp_data[temp_bds[1]:temp_bds[2], 2])\n",
        "historical_temps = historical_temp_data[temp_bds[1]:end, 2]"
      ],
      "id": "42be6b02"
    },
    {
      "cell_type": "markdown",
      "metadata": {},
      "source": [
        "#### Problem 2.2 (5 points)\n",
        "\n",
        "Evaluate `sea_level_model()` using the projected temperature ensemble\n",
        "from Problem 1. Plot the 90% projection interval of the sea levels."
      ],
      "id": "42bbfb76-1b97-4b96-a336-cdcc20ad573c"
    },
    {
      "cell_type": "markdown",
      "metadata": {},
      "source": [
        "#### Problem 2.3 (5 points)\n",
        "\n",
        "Make a histogram of the sea-level anomaly in 2100. What can you observe\n",
        "about how the ECS uncertainty has impacted sea-level uncertainty under\n",
        "this radiative forcing scenario? What might the implications be of only\n",
        "using the best-estimate ECS value?"
      ],
      "id": "a1f7252d-fa85-4390-afc8-150b94daffc7"
    },
    {
      "cell_type": "markdown",
      "metadata": {},
      "source": [
        "### Problem 3 (13 points)\n",
        "\n",
        "You’ve been asked to consult on a levee reliability analysis. For\n",
        "context, levees in the United States are supposed to only fail once in\n",
        "100 years, or, in other words, to have at most a 1% chance of failure in\n",
        "a given year. We will assume for this problem that the only way in which\n",
        "a levee fails is by being overtopped (note: this is unrealistic).\n",
        "\n",
        "We can assess the probability of levee overtopping by comparing its\n",
        "height to a distribution of extreme sea levels. A common approach is to\n",
        "look at the distribution of the highest sea level each year. These\n",
        "extreme sea levels can be obtained by combining the absolute sea level\n",
        "(we will use our distribution of global sea levels for this), the rate\n",
        "of subsidence (how much the ground sinks), and the distribution of storm\n",
        "tides (the highest tide level, which is often the result of storm surges\n",
        "combining with high tide).\n",
        "\n",
        "Assume for this problem that:\n",
        "\n",
        "1.  the annual rate of subsidence $\\nu$ is 1.2mm/yr;\n",
        "2.  the distribution of annual storm tide maxima, above the mean sea\n",
        "    level, is (and is expected to continue to be) given by a\n",
        "    $\\text{GeneralizedExtremeValue}(900, 25, 0.3)$ distribution, which\n",
        "    looks like this:"
      ],
      "id": "e75217f4-a7c3-4aaa-8d77-7f0ec4d04913"
    },
    {
      "cell_type": "code",
      "execution_count": 6,
      "metadata": {},
      "outputs": [
        {
          "output_type": "display_data",
          "metadata": {},
          "data": {
            "text/html": [
              "<img src=\"data:image/png;base64,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\" />"
            ]
          }
        }
      ],
      "source": [
        "tide_distribution = GeneralizedExtremeValue(900, 25, 0.3)\n",
        "    histogram(rand(tide_distribution, 10000), xlabel=\"Storm Tide Height (mm)\", ylabel=\"Count\", legend=:false)"
      ],
      "id": "0006d0e4"
    },
    {
      "cell_type": "markdown",
      "metadata": {},
      "source": [
        "Feel free to just sample from `tide_distribution` in your solution\n",
        "below."
      ],
      "id": "2d482e31-eaee-4e0d-bf15-ca1d15b02830"
    },
    {
      "cell_type": "markdown",
      "metadata": {},
      "source": [
        "#### Problem 3.1 (2 points)\n",
        "\n",
        "How would you use your sea-level simulations and the above information\n",
        "to compute a distribution of extreme sea levels in 2100 relative to 2010\n",
        "mean sea level? Write down the approach in clear steps, with equations\n",
        "as needed."
      ],
      "id": "abe041eb-3f78-44c5-bdd4-1a03f36f795d"
    },
    {
      "cell_type": "markdown",
      "metadata": {},
      "source": [
        "#### Problem 3.2 (3 points)\n",
        "\n",
        "Follow the steps above and produce a histogram of the extreme sea levels\n",
        "in 2100 relative to 2010."
      ],
      "id": "78d1eb66-b5a7-4849-9f61-18f234cf618a"
    },
    {
      "cell_type": "markdown",
      "metadata": {},
      "source": [
        "#### Problem 3.3 (5 points)\n",
        "\n",
        "The current levee was heightened in 2010 to 2m above the 2010 mean sea\n",
        "level. Based on your analysis above, what is the probability that the\n",
        "levee will be overtopped in 2100 (remember that the reliability standard\n",
        "is 1%)?"
      ],
      "id": "568642a9-b3d1-446f-a68b-494330688542"
    },
    {
      "cell_type": "markdown",
      "metadata": {},
      "source": [
        "#### Problem 3.4 (3 points)\n",
        "\n",
        "Based on your analysis, would you recommend that the levee be heightened\n",
        "again in the future, and if so, how high? What other information might\n",
        "you need, if any, to make your recommendation?"
      ],
      "id": "e98f0a73-95ae-4dcc-ab82-c4ad50b5efc5"
    },
    {
      "cell_type": "markdown",
      "metadata": {},
      "source": [
        "## References\n",
        "\n",
        "List any external references consulted, including classmates."
      ],
      "id": "3f3560ad-e071-4d36-a005-21d8649b28ea"
    }
  ],
  "nbformat": 4,
  "nbformat_minor": 5,
  "metadata": {
    "kernelspec": {
      "name": "julia-1.9",
      "display_name": "Julia 1.9.3",
      "language": "julia"
    },
    "language_info": {
      "name": "julia",
      "file_extension": ".jl",
      "mimetype": "application/julia",
      "version": "1.9.3"
    }
  }
}